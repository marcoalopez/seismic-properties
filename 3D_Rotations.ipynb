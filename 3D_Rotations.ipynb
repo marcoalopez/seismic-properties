{
 "cells": [
  {
   "cell_type": "code",
   "execution_count": 1,
   "id": "a5dd2acd-d778-47b1-aa3a-671dd9e4c591",
   "metadata": {},
   "outputs": [],
   "source": [
    "import numpy as np\n",
    "import matplotlib.pyplot as plt\n",
    "from matplotlib import cm\n",
    "from scipy.spatial.transform import Rotation as r"
   ]
  },
  {
   "cell_type": "markdown",
   "id": "c8699023-ac5c-4b9d-8dd5-c73d67f14ce9",
   "metadata": {},
   "source": [
    "# Test the Rotation Scipy's module"
   ]
  },
  {
   "cell_type": "code",
   "execution_count": 4,
   "id": "72bcd002-2952-4607-8f44-3a94e260f4ca",
   "metadata": {},
   "outputs": [],
   "source": [
    "# define a rotation using Euler angles (Bunge convention)\n",
    "rotation = r.from_euler('zxz', [30, 45, 40], degrees=True)"
   ]
  },
  {
   "cell_type": "code",
   "execution_count": 20,
   "id": "fdc2f1ea-4c4a-4f8b-9e40-4e38bbfb7bf0",
   "metadata": {},
   "outputs": [
    {
     "name": "stdout",
     "output_type": "stream",
     "text": [
      "Euler angles: [30. 45. 40.] (Bunge convention)\n",
      "Euler angles: [79.87925979 32.79775133 32.73240721] (Other)\n",
      "Quaternions: [0.38122721 0.03335306 0.52991553 0.75679781]\n",
      "Rotation vectors: [47.61167346  4.16548168 66.18143918]\n",
      "Modified Rodrigues Parameters: [0.21700119 0.01898514 0.30163718]\n",
      "Rotation matrix: \n",
      " [[ 0.43615421 -0.77664764  0.45451948]\n",
      " [ 0.82750801  0.1477107  -0.54167522]\n",
      " [ 0.35355339  0.61237244  0.70710678]]\n"
     ]
    }
   ],
   "source": [
    "print(f\"Euler angles: {rotation.as_euler('zxz', degrees=True)} (Bunge convention)\")\n",
    "print(f\"Euler angles: {rotation.as_euler('zxy', degrees=True)} (Other)\")\n",
    "print(f\"Quaternions: {rotation.as_quat()}\")\n",
    "print(f\"Rotation vectors: {rotation.as_rotvec(degrees=True)}\")\n",
    "print(f\"Modified Rodrigues Parameters: {rotation.as_mrp()}\")\n",
    "print(f\"Rotation matrix: \\n {rotation.as_matrix()}\")"
   ]
  },
  {
   "cell_type": "markdown",
   "id": "54ea2fed-01fa-489d-8e70-f436bdba8183",
   "metadata": {},
   "source": [
    "## Apply this rotation to a set of vectors.\n",
    "\n",
    "## Get the magnitude(s) of the rotation(s)\n",
    "\n",
    "## Get identity rotation(s)\n",
    "\n",
    "## Reduce this rotation with the provided rotation groups"
   ]
  },
  {
   "cell_type": "code",
   "execution_count": 23,
   "id": "18923c36-e22d-4e38-bac1-5e508d6394c5",
   "metadata": {},
   "outputs": [
    {
     "data": {
      "text/plain": [
       "1.424792303615968"
      ]
     },
     "execution_count": 23,
     "metadata": {},
     "output_type": "execute_result"
    }
   ],
   "source": [
    "rotation.magnitude()"
   ]
  },
  {
   "cell_type": "code",
   "execution_count": 25,
   "id": "71c0b3e2-8521-498c-afd7-51866d9599e1",
   "metadata": {},
   "outputs": [
    {
     "data": {
      "text/plain": [
       "81.63458567991715"
      ]
     },
     "execution_count": 25,
     "metadata": {},
     "output_type": "execute_result"
    }
   ],
   "source": [
    "np.rad2deg(rotation.magnitude())"
   ]
  },
  {
   "cell_type": "code",
   "execution_count": 26,
   "id": "9035b623-ab56-4b6e-83cc-7c17e4c1044d",
   "metadata": {},
   "outputs": [
    {
     "data": {
      "text/plain": [
       "<scipy.spatial.transform._rotation.Rotation at 0x1ec29903c30>"
      ]
     },
     "execution_count": 26,
     "metadata": {},
     "output_type": "execute_result"
    }
   ],
   "source": [
    "rotation.identity()"
   ]
  },
  {
   "cell_type": "code",
   "execution_count": null,
   "id": "c197343e-c1a1-492f-94c7-833eefc0a32c",
   "metadata": {},
   "outputs": [],
   "source": []
  }
 ],
 "metadata": {
  "kernelspec": {
   "display_name": "Python 3 (ipykernel)",
   "language": "python",
   "name": "python3"
  },
  "language_info": {
   "codemirror_mode": {
    "name": "ipython",
    "version": 3
   },
   "file_extension": ".py",
   "mimetype": "text/x-python",
   "name": "python",
   "nbconvert_exporter": "python",
   "pygments_lexer": "ipython3",
   "version": "3.10.8"
  }
 },
 "nbformat": 4,
 "nbformat_minor": 5
}
